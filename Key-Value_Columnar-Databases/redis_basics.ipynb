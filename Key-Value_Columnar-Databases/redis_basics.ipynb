{
 "cells": [
  {
   "cell_type": "code",
   "execution_count": 2,
   "metadata": {},
   "outputs": [
    {
     "ename": "ModuleNotFoundError",
     "evalue": "No module named 'redis'",
     "output_type": "error",
     "traceback": [
      "\u001b[1;31m---------------------------------------------------------------------------\u001b[0m",
      "\u001b[1;31mModuleNotFoundError\u001b[0m                       Traceback (most recent call last)",
      "\u001b[1;32m<ipython-input-2-637cc5eda7aa>\u001b[0m in \u001b[0;36m<module>\u001b[1;34m\u001b[0m\n\u001b[1;32m----> 1\u001b[1;33m \u001b[1;32mimport\u001b[0m \u001b[0mredis\u001b[0m\u001b[1;33m\u001b[0m\u001b[1;33m\u001b[0m\u001b[0m\n\u001b[0m\u001b[0;32m      2\u001b[0m \u001b[1;32mimport\u001b[0m \u001b[0mvincent\u001b[0m\u001b[1;33m\u001b[0m\u001b[1;33m\u001b[0m\u001b[0m\n\u001b[0;32m      3\u001b[0m \u001b[0mvincent\u001b[0m\u001b[1;33m.\u001b[0m\u001b[0mcore\u001b[0m\u001b[1;33m.\u001b[0m\u001b[0minitialize_notebook\u001b[0m\u001b[1;33m(\u001b[0m\u001b[1;33m)\u001b[0m\u001b[1;33m\u001b[0m\u001b[1;33m\u001b[0m\u001b[0m\n\u001b[0;32m      4\u001b[0m \u001b[1;33m\u001b[0m\u001b[0m\n\u001b[0;32m      5\u001b[0m \u001b[1;31m#\u001b[0m\u001b[1;33m\u001b[0m\u001b[1;33m\u001b[0m\u001b[1;33m\u001b[0m\u001b[0m\n",
      "\u001b[1;31mModuleNotFoundError\u001b[0m: No module named 'redis'"
     ]
    }
   ],
   "source": [
    "import redis \n",
    "import vincent \n",
    "vincent.core.initialize_notebook()\n",
    "\n",
    "#\n",
    "# connect to redis running on this machine on its default port 6379\n",
    "#\n",
    "REDIS_HOST = \"localhost\"\n",
    "REDIS_PORT = 6379\n",
    "REDIS = redis.Redis(host=REDIS_HOST, port=REDIS_PORT)\n",
    "# test the connection\n",
    "REDIS.ping()\n"
   ]
  },
  {
   "cell_type": "code",
   "execution_count": 3,
   "metadata": {},
   "outputs": [
    {
     "ename": "SyntaxError",
     "evalue": "invalid syntax (<ipython-input-3-4bf8cfa2aa88>, line 4)",
     "output_type": "error",
     "traceback": [
      "\u001b[1;36m  File \u001b[1;32m\"<ipython-input-3-4bf8cfa2aa88>\"\u001b[1;36m, line \u001b[1;32m4\u001b[0m\n\u001b[1;33m    print REDIS.get(\"EXAMPLE_KEY\")    # see the value\u001b[0m\n\u001b[1;37m              ^\u001b[0m\n\u001b[1;31mSyntaxError\u001b[0m\u001b[1;31m:\u001b[0m invalid syntax\n"
     ]
    }
   ],
   "source": [
    "# set/get/del basic key:value pairs \n",
    "\n",
    "REDIS.set(\"EXAMPLE_KEY\", \"value\") # new key:value\n",
    "print REDIS.get(\"EXAMPLE_KEY\")    # see the value\n",
    "print REDIS.keys(\"EXAMPLE_*\")     # see all keys beginning with EXAMPLE_*\n",
    "REDIS.delete(\"EXAMPLE_KEY\")       # delete the key\n",
    "print REDIS.keys(\"EXAMPLE_*\")     # see its gone"
   ]
  },
  {
   "cell_type": "code",
   "execution_count": 12,
   "metadata": {},
   "outputs": [
    {
     "data": {
      "text/plain": [
       "True"
      ]
     },
     "execution_count": 12,
     "metadata": {},
     "output_type": "execute_result"
    }
   ],
   "source": [
    "# hash data types are basically redis dictionaries stored by key \n",
    "data = {\"a\" : \"x\", \"b\": \"y\", \"c\": 123.45}\n",
    "REDIS.hmset(\"EXAMPLE_HASH\", data)  # create a new hash named EXAMPLE_HASH \n",
    "REDIS.hmget(\"EXAMPLE_HASH\", \"a\")   # get single key from hash\n",
    "REDIS.hgetall(\"EXAMPLE_HASH\")     # get all keys from hash\n",
    "\n",
    "# note that types get converted to strings:\n",
    "type(REDIS.hmget(\"EXAMPLE_HASH\", \"c\")) != type(data[\"c\"])\n"
   ]
  },
  {
   "cell_type": "code",
   "execution_count": 19,
   "metadata": {},
   "outputs": [
    {
     "name": "stdout",
     "output_type": "stream",
     "text": [
      "set(['1', '0', '3', '2', '4'])\n",
      "set(['1', '0', '3', '2', '4'])\n",
      "5\n"
     ]
    },
    {
     "data": {
      "text/plain": [
       "1"
      ]
     },
     "execution_count": 19,
     "metadata": {},
     "output_type": "execute_result"
    }
   ],
   "source": [
    "# set data \n",
    "values = range(5)\n",
    "REDIS.sadd(\"EXAMPLE_SET\", *values)   # add values\n",
    "print(REDIS.smembers(\"EXAMPLE_SET\")) # get set members \n",
    "REDIS.sadd(\"EXAMPLE_SET\", *[1, 1, 2, 2])  # add duplicate values (already members)\n",
    "print(REDIS.smembers(\"EXAMPLE_SET\"))      # set remains same\n",
    "print REDIS.scard(\"EXAMPLE_SET\")          # number of members of set\n",
    "\n",
    "REDIS.delete(\"EXAMPLE_SET\")"
   ]
  },
  {
   "cell_type": "code",
   "execution_count": 23,
   "metadata": {},
   "outputs": [
    {
     "name": "stdout",
     "output_type": "stream",
     "text": [
      "value\n",
      "False\n"
     ]
    }
   ],
   "source": [
    "# expriry of keys\n",
    "import time\n",
    "REDIS.set(\"EXAMPLE_EXPIRY_KEY\", \"value\") # create a key\n",
    "print REDIS.get(\"EXAMPLE_EXPIRY_KEY\")    # verify it is present  \n",
    "REDIS.expire(\"EXAMPLE_EXPIRY_KEY\", 1)    # set it to expire in 1 second\n",
    "time.sleep(2)                            # wait 2 seconds\n",
    "print REDIS.exists(\"EXAMPLE_EXPIRY_KEY\") # key no longer exists"
   ]
  },
  {
   "cell_type": "code",
   "execution_count": null,
   "metadata": {
    "collapsed": true
   },
   "outputs": [],
   "source": []
  }
 ],
 "metadata": {
  "kernelspec": {
   "display_name": "Python 3",
   "language": "python",
   "name": "python3"
  },
  "language_info": {
   "codemirror_mode": {
    "name": "ipython",
    "version": 3
   },
   "file_extension": ".py",
   "mimetype": "text/x-python",
   "name": "python",
   "nbconvert_exporter": "python",
   "pygments_lexer": "ipython3",
   "version": "3.7.4"
  }
 },
 "nbformat": 4,
 "nbformat_minor": 1
}
